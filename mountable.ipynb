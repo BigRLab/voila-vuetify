{
 "cells": [
  {
   "cell_type": "code",
   "execution_count": null,
   "metadata": {},
   "outputs": [],
   "source": [
    "import ipywidgets as widgets\n",
    "from traitlets import (Dict, Unicode, List, HasTraits)\n",
    "import ipyvuetify as v\n",
    "\n",
    "class WithMeta(HasTraits):\n",
    "    _metadata = Dict().tag(sync=True)\n",
    "\n",
    "class MountButton(widgets.Button, WithMeta): pass\n",
    "class MountFloatSlider(widgets.FloatSlider, WithMeta): pass\n",
    "\n",
    "mount_button = MountButton(_metadata={'mount_id': 'widget1'}, description=\"Hi there\")\n",
    "mount_slider = MountFloatSlider(_metadata={'mount_id': 'widget2'}, description=\"Hi there 2\")\n",
    "mount_button2 = MountButton(_metadata={'mount_id': 'drawbutton'}, description=\"Hi there nav drawer\")\n",
    "\n",
    "mount_btn = v.Btn(_metadata={'mount_id': 'vbtn1'}, color='primary', children=[\"vbtn\"])"
   ]
  },
  {
   "cell_type": "code",
   "execution_count": null,
   "metadata": {},
   "outputs": [],
   "source": []
  }
 ],
 "metadata": {
  "kernelspec": {
   "display_name": "Python 3",
   "language": "python",
   "name": "python3"
  },
  "language_info": {
   "codemirror_mode": {
    "name": "ipython",
    "version": 3
   },
   "file_extension": ".py",
   "mimetype": "text/x-python",
   "name": "python",
   "nbconvert_exporter": "python",
   "pygments_lexer": "ipython3",
   "version": "3.7.3"
  }
 },
 "nbformat": 4,
 "nbformat_minor": 2
}
